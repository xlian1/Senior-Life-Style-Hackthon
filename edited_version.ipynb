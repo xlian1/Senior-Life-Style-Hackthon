{
 "cells": [
  {
   "cell_type": "code",
   "execution_count": 1,
   "metadata": {
    "collapsed": true
   },
   "outputs": [],
   "source": [
    "import pandas as pd\n",
    "import numpy as np\n",
    "\n",
    "import seaborn as sns\n",
    "import matplotlib.pyplot as plt\n",
    "%matplotlib inline\n",
    "\n",
    "\n",
    "from datetime import datetime\n",
    "from sklearn.model_selection import train_test_split\n",
    "from sklearn.linear_model import LogisticRegression"
   ]
  },
  {
   "cell_type": "code",
   "execution_count": 2,
   "metadata": {
    "collapsed": true
   },
   "outputs": [],
   "source": [
    "#read the txt file\n",
    "data1 = pd.read_csv('/Users/Evelyn/Desktop/Hackthon/DataSet1__24Apr2018.txt',sep=' ')\n",
    "data2 = pd.read_csv('/Users/Evelyn/Desktop/Hackthon/DataSet2_24Apr2018.txt',sep=' ')\n",
    "data3 = pd.read_csv('/Users/Evelyn/Desktop/Hackthon/DataSet3__24Apr2018.txt',sep=' ')\n",
    "data4 = pd.read_csv('/Users/Evelyn/Desktop/Hackthon/DataSet4__24Apr2018.txt',sep=' ')"
   ]
  },
  {
   "cell_type": "code",
   "execution_count": 3,
   "metadata": {},
   "outputs": [
    {
     "name": "stdout",
     "output_type": "stream",
     "text": [
      "(178478, 24)\n",
      "(711844, 3)\n",
      "(5738, 6)\n",
      "(23121, 6)\n"
     ]
    }
   ],
   "source": [
    "#print the dimensions of four datasets\n",
    "print(data1.shape)\n",
    "print(data2.shape)\n",
    "print(data3.shape)\n",
    "print(data4.shape)"
   ]
  },
  {
   "cell_type": "code",
   "execution_count": 4,
   "metadata": {},
   "outputs": [
    {
     "name": "stdout",
     "output_type": "stream",
     "text": [
      "<class 'pandas.core.frame.DataFrame'>\n",
      "RangeIndex: 178478 entries, 0 to 178477\n",
      "Data columns (total 24 columns):\n",
      "CommunityCode       164549 non-null float64\n",
      "CommunityZipCode    164549 non-null float64\n",
      "ProspectID          178478 non-null object\n",
      "AgeatInquiry        101838 non-null float64\n",
      "CareLevel           169672 non-null object\n",
      "Gender              174805 non-null object\n",
      "Marital             17023 non-null object\n",
      "Veteran             178478 non-null bool\n",
      "CurrentResidence    36868 non-null object\n",
      "ZipCode             63631 non-null float64\n",
      "UnitPreference      6122 non-null object\n",
      "ProvidedEmail       178478 non-null bool\n",
      "ProvidedPhone       178478 non-null bool\n",
      "Budget              111947 non-null object\n",
      "RequestedVisit      178478 non-null bool\n",
      "NoCall              178478 non-null bool\n",
      "NoEmail             178478 non-null bool\n",
      "InquiryDate         178421 non-null object\n",
      "ReferralCompany     178478 non-null object\n",
      "ProjectedMoveIn     102838 non-null object\n",
      "DeactDate           108253 non-null object\n",
      "DeactReason         106579 non-null object\n",
      "NotQual             13624 non-null object\n",
      "CurrentStatus       178478 non-null object\n",
      "dtypes: bool(6), float64(4), object(14)\n",
      "memory usage: 25.5+ MB\n"
     ]
    }
   ],
   "source": [
    "#deal with data1, which is the data provided by referral partner\n",
    "\n",
    "data1.info()"
   ]
  },
  {
   "cell_type": "code",
   "execution_count": 5,
   "metadata": {},
   "outputs": [
    {
     "data": {
      "text/plain": [
       "CommunityCode          150\n",
       "CommunityZipCode       136\n",
       "ProspectID          178478\n",
       "AgeatInquiry           109\n",
       "CareLevel                5\n",
       "Gender                   2\n",
       "Marital                  4\n",
       "Veteran                  2\n",
       "CurrentResidence         4\n",
       "ZipCode               7646\n",
       "UnitPreference           6\n",
       "ProvidedEmail            2\n",
       "ProvidedPhone            2\n",
       "Budget                   6\n",
       "RequestedVisit           2\n",
       "NoCall                   2\n",
       "NoEmail                  2\n",
       "InquiryDate         128427\n",
       "ReferralCompany          5\n",
       "ProjectedMoveIn      68716\n",
       "DeactDate             7460\n",
       "DeactReason              8\n",
       "NotQual                  5\n",
       "CurrentStatus            4\n",
       "dtype: int64"
      ]
     },
     "execution_count": 5,
     "metadata": {},
     "output_type": "execute_result"
    }
   ],
   "source": [
    "data1.nunique()"
   ]
  },
  {
   "cell_type": "code",
   "execution_count": 6,
   "metadata": {},
   "outputs": [
    {
     "data": {
      "text/html": [
       "<div>\n",
       "<style>\n",
       "    .dataframe thead tr:only-child th {\n",
       "        text-align: right;\n",
       "    }\n",
       "\n",
       "    .dataframe thead th {\n",
       "        text-align: left;\n",
       "    }\n",
       "\n",
       "    .dataframe tbody tr th {\n",
       "        vertical-align: top;\n",
       "    }\n",
       "</style>\n",
       "<table border=\"1\" class=\"dataframe\">\n",
       "  <thead>\n",
       "    <tr style=\"text-align: right;\">\n",
       "      <th></th>\n",
       "      <th>CommunityCode</th>\n",
       "      <th>CommunityZipCode</th>\n",
       "      <th>AgeatInquiry</th>\n",
       "      <th>ZipCode</th>\n",
       "    </tr>\n",
       "  </thead>\n",
       "  <tbody>\n",
       "    <tr>\n",
       "      <th>count</th>\n",
       "      <td>164549.000000</td>\n",
       "      <td>164549.000000</td>\n",
       "      <td>101838.000000</td>\n",
       "      <td>63631.000000</td>\n",
       "    </tr>\n",
       "    <tr>\n",
       "      <th>mean</th>\n",
       "      <td>594.087937</td>\n",
       "      <td>50576.659621</td>\n",
       "      <td>81.573214</td>\n",
       "      <td>51561.642957</td>\n",
       "    </tr>\n",
       "    <tr>\n",
       "      <th>std</th>\n",
       "      <td>180.166353</td>\n",
       "      <td>24091.052059</td>\n",
       "      <td>9.640544</td>\n",
       "      <td>24373.995451</td>\n",
       "    </tr>\n",
       "    <tr>\n",
       "      <th>min</th>\n",
       "      <td>272.000000</td>\n",
       "      <td>6413.000000</td>\n",
       "      <td>-31.000000</td>\n",
       "      <td>1002.000000</td>\n",
       "    </tr>\n",
       "    <tr>\n",
       "      <th>25%</th>\n",
       "      <td>458.000000</td>\n",
       "      <td>33021.000000</td>\n",
       "      <td>76.000000</td>\n",
       "      <td>33028.000000</td>\n",
       "    </tr>\n",
       "    <tr>\n",
       "      <th>50%</th>\n",
       "      <td>503.000000</td>\n",
       "      <td>53129.000000</td>\n",
       "      <td>83.000000</td>\n",
       "      <td>53129.000000</td>\n",
       "    </tr>\n",
       "    <tr>\n",
       "      <th>75%</th>\n",
       "      <td>740.000000</td>\n",
       "      <td>73135.000000</td>\n",
       "      <td>88.000000</td>\n",
       "      <td>76502.000000</td>\n",
       "    </tr>\n",
       "    <tr>\n",
       "      <th>max</th>\n",
       "      <td>899.000000</td>\n",
       "      <td>99324.000000</td>\n",
       "      <td>185.000000</td>\n",
       "      <td>99801.000000</td>\n",
       "    </tr>\n",
       "  </tbody>\n",
       "</table>\n",
       "</div>"
      ],
      "text/plain": [
       "       CommunityCode  CommunityZipCode   AgeatInquiry       ZipCode\n",
       "count  164549.000000     164549.000000  101838.000000  63631.000000\n",
       "mean      594.087937      50576.659621      81.573214  51561.642957\n",
       "std       180.166353      24091.052059       9.640544  24373.995451\n",
       "min       272.000000       6413.000000     -31.000000   1002.000000\n",
       "25%       458.000000      33021.000000      76.000000  33028.000000\n",
       "50%       503.000000      53129.000000      83.000000  53129.000000\n",
       "75%       740.000000      73135.000000      88.000000  76502.000000\n",
       "max       899.000000      99324.000000     185.000000  99801.000000"
      ]
     },
     "execution_count": 6,
     "metadata": {},
     "output_type": "execute_result"
    }
   ],
   "source": [
    "data1.describe()"
   ]
  },
  {
   "cell_type": "code",
   "execution_count": 7,
   "metadata": {},
   "outputs": [
    {
     "data": {
      "text/html": [
       "<div>\n",
       "<style>\n",
       "    .dataframe thead tr:only-child th {\n",
       "        text-align: right;\n",
       "    }\n",
       "\n",
       "    .dataframe thead th {\n",
       "        text-align: left;\n",
       "    }\n",
       "\n",
       "    .dataframe tbody tr th {\n",
       "        vertical-align: top;\n",
       "    }\n",
       "</style>\n",
       "<table border=\"1\" class=\"dataframe\">\n",
       "  <thead>\n",
       "    <tr style=\"text-align: right;\">\n",
       "      <th></th>\n",
       "      <th>ProspectID</th>\n",
       "      <th>CareLevel</th>\n",
       "      <th>Gender</th>\n",
       "      <th>Marital</th>\n",
       "      <th>CurrentResidence</th>\n",
       "      <th>UnitPreference</th>\n",
       "      <th>Budget</th>\n",
       "      <th>InquiryDate</th>\n",
       "      <th>ReferralCompany</th>\n",
       "      <th>ProjectedMoveIn</th>\n",
       "      <th>DeactDate</th>\n",
       "      <th>DeactReason</th>\n",
       "      <th>NotQual</th>\n",
       "      <th>CurrentStatus</th>\n",
       "    </tr>\n",
       "  </thead>\n",
       "  <tbody>\n",
       "    <tr>\n",
       "      <th>count</th>\n",
       "      <td>178478</td>\n",
       "      <td>169672</td>\n",
       "      <td>174805</td>\n",
       "      <td>17023</td>\n",
       "      <td>36868</td>\n",
       "      <td>6122</td>\n",
       "      <td>111947</td>\n",
       "      <td>178421</td>\n",
       "      <td>178478</td>\n",
       "      <td>102838</td>\n",
       "      <td>108253</td>\n",
       "      <td>106579</td>\n",
       "      <td>13624</td>\n",
       "      <td>178478</td>\n",
       "    </tr>\n",
       "    <tr>\n",
       "      <th>unique</th>\n",
       "      <td>178478</td>\n",
       "      <td>5</td>\n",
       "      <td>2</td>\n",
       "      <td>4</td>\n",
       "      <td>4</td>\n",
       "      <td>6</td>\n",
       "      <td>6</td>\n",
       "      <td>128427</td>\n",
       "      <td>5</td>\n",
       "      <td>68716</td>\n",
       "      <td>7460</td>\n",
       "      <td>8</td>\n",
       "      <td>5</td>\n",
       "      <td>4</td>\n",
       "    </tr>\n",
       "    <tr>\n",
       "      <th>top</th>\n",
       "      <td>29f37977-7d24-e811-8117-e0071b669ee1</td>\n",
       "      <td>A</td>\n",
       "      <td>Female</td>\n",
       "      <td>Married</td>\n",
       "      <td>Living at Home</td>\n",
       "      <td>1 Bed</td>\n",
       "      <td>3,000-4,000</td>\n",
       "      <td>2014-08-12 04:00:00</td>\n",
       "      <td>A Place for Mom</td>\n",
       "      <td>2016-12-01 05:00:00</td>\n",
       "      <td>2016-02-03 06:00:00</td>\n",
       "      <td>Request Removal</td>\n",
       "      <td>Not Financially Qualified</td>\n",
       "      <td>Deactivated</td>\n",
       "    </tr>\n",
       "    <tr>\n",
       "      <th>freq</th>\n",
       "      <td>1</td>\n",
       "      <td>72305</td>\n",
       "      <td>112344</td>\n",
       "      <td>8310</td>\n",
       "      <td>24875</td>\n",
       "      <td>3096</td>\n",
       "      <td>30917</td>\n",
       "      <td>103</td>\n",
       "      <td>105537</td>\n",
       "      <td>1036</td>\n",
       "      <td>333</td>\n",
       "      <td>32769</td>\n",
       "      <td>7219</td>\n",
       "      <td>108364</td>\n",
       "    </tr>\n",
       "  </tbody>\n",
       "</table>\n",
       "</div>"
      ],
      "text/plain": [
       "                                  ProspectID CareLevel  Gender  Marital  \\\n",
       "count                                 178478    169672  174805    17023   \n",
       "unique                                178478         5       2        4   \n",
       "top     29f37977-7d24-e811-8117-e0071b669ee1         A  Female  Married   \n",
       "freq                                       1     72305  112344     8310   \n",
       "\n",
       "       CurrentResidence UnitPreference       Budget          InquiryDate  \\\n",
       "count             36868           6122       111947               178421   \n",
       "unique                4              6            6               128427   \n",
       "top      Living at Home          1 Bed  3,000-4,000  2014-08-12 04:00:00   \n",
       "freq              24875           3096        30917                  103   \n",
       "\n",
       "        ReferralCompany      ProjectedMoveIn            DeactDate  \\\n",
       "count            178478               102838               108253   \n",
       "unique                5                68716                 7460   \n",
       "top     A Place for Mom  2016-12-01 05:00:00  2016-02-03 06:00:00   \n",
       "freq             105537                 1036                  333   \n",
       "\n",
       "            DeactReason                    NotQual CurrentStatus  \n",
       "count            106579                      13624        178478  \n",
       "unique                8                          5             4  \n",
       "top     Request Removal  Not Financially Qualified   Deactivated  \n",
       "freq              32769                       7219        108364  "
      ]
     },
     "execution_count": 7,
     "metadata": {},
     "output_type": "execute_result"
    }
   ],
   "source": [
    "data1.describe(include=['O'])"
   ]
  },
  {
   "cell_type": "code",
   "execution_count": 8,
   "metadata": {
    "collapsed": true
   },
   "outputs": [],
   "source": [
    "#Create new feature ConvLevel : group prospects into three Categories based on within what time frame to move in \n",
    "# 1: Hot, 2 : Warm, 3 : Cold\n",
    "data1['ProjectedMoveIn'] = pd.to_datetime(data1.ProjectedMoveIn) \n",
    "data1['InquiryDate'] = pd.to_datetime(data1.InquiryDate)\n",
    "\n",
    "data1['ConvLevel'] = data1.ProjectedMoveIn - data1.InquiryDate\n",
    "data1['ConvLevel'] = data1['ConvLevel'].map(lambda x : x.days)\n",
    "\n",
    "data1.loc[(data1.ConvLevel <= 30), 'ConvLevel'] = 1\n",
    "data1.loc[(data1.ConvLevel > 30) & (data1.ConvLevel <= 90),'ConvLevel'] = 2\n",
    "data1.loc[(data1.ConvLevel > 90),'ConvLevel'] = 3\n",
    "data1['ConvLevel'] = data1.ConvLevel.fillna(3)\n",
    "data1['ConvLevel'] = data1['ConvLevel'].astype(int)"
   ]
  },
  {
   "cell_type": "code",
   "execution_count": 9,
   "metadata": {
    "collapsed": true
   },
   "outputs": [],
   "source": [
    "# Add Conversion as the target/dependentable variable in data1\n",
    "data1['Conversion'] = data1.ProspectID.isin(data3.ProspectID)\n",
    "data1['Conversion'] = data1['Conversion'].map({True:1,False:0})"
   ]
  },
  {
   "cell_type": "code",
   "execution_count": 10,
   "metadata": {},
   "outputs": [
    {
     "data": {
      "text/html": [
       "<div>\n",
       "<style>\n",
       "    .dataframe thead tr:only-child th {\n",
       "        text-align: right;\n",
       "    }\n",
       "\n",
       "    .dataframe thead th {\n",
       "        text-align: left;\n",
       "    }\n",
       "\n",
       "    .dataframe tbody tr th {\n",
       "        vertical-align: top;\n",
       "    }\n",
       "</style>\n",
       "<table border=\"1\" class=\"dataframe\">\n",
       "  <thead>\n",
       "    <tr style=\"text-align: right;\">\n",
       "      <th></th>\n",
       "      <th>CareLevel</th>\n",
       "      <th>Conversion</th>\n",
       "    </tr>\n",
       "  </thead>\n",
       "  <tbody>\n",
       "    <tr>\n",
       "      <th>0</th>\n",
       "      <td>A</td>\n",
       "      <td>0.033801</td>\n",
       "    </tr>\n",
       "    <tr>\n",
       "      <th>1</th>\n",
       "      <td>F</td>\n",
       "      <td>0.025260</td>\n",
       "    </tr>\n",
       "    <tr>\n",
       "      <th>2</th>\n",
       "      <td>I</td>\n",
       "      <td>0.029359</td>\n",
       "    </tr>\n",
       "    <tr>\n",
       "      <th>3</th>\n",
       "      <td>M</td>\n",
       "      <td>0.072201</td>\n",
       "    </tr>\n",
       "    <tr>\n",
       "      <th>4</th>\n",
       "      <td>S</td>\n",
       "      <td>0.011429</td>\n",
       "    </tr>\n",
       "  </tbody>\n",
       "</table>\n",
       "</div>"
      ],
      "text/plain": [
       "  CareLevel  Conversion\n",
       "0         A    0.033801\n",
       "1         F    0.025260\n",
       "2         I    0.029359\n",
       "3         M    0.072201\n",
       "4         S    0.011429"
      ]
     },
     "execution_count": 10,
     "metadata": {},
     "output_type": "execute_result"
    }
   ],
   "source": [
    "#Let's see the percentage of the each category in different features\n",
    "data1[['CareLevel','Conversion']].groupby('CareLevel',as_index=False).mean()"
   ]
  },
  {
   "cell_type": "code",
   "execution_count": 11,
   "metadata": {},
   "outputs": [
    {
     "data": {
      "text/html": [
       "<div>\n",
       "<style>\n",
       "    .dataframe thead tr:only-child th {\n",
       "        text-align: right;\n",
       "    }\n",
       "\n",
       "    .dataframe thead th {\n",
       "        text-align: left;\n",
       "    }\n",
       "\n",
       "    .dataframe tbody tr th {\n",
       "        vertical-align: top;\n",
       "    }\n",
       "</style>\n",
       "<table border=\"1\" class=\"dataframe\">\n",
       "  <thead>\n",
       "    <tr style=\"text-align: right;\">\n",
       "      <th></th>\n",
       "      <th>Budget</th>\n",
       "      <th>Conversion</th>\n",
       "    </tr>\n",
       "  </thead>\n",
       "  <tbody>\n",
       "    <tr>\n",
       "      <th>0</th>\n",
       "      <td>0-1,000</td>\n",
       "      <td>0.031314</td>\n",
       "    </tr>\n",
       "    <tr>\n",
       "      <th>1</th>\n",
       "      <td>1,000-2,000</td>\n",
       "      <td>0.027351</td>\n",
       "    </tr>\n",
       "    <tr>\n",
       "      <th>2</th>\n",
       "      <td>2,000-3,000</td>\n",
       "      <td>0.027414</td>\n",
       "    </tr>\n",
       "    <tr>\n",
       "      <th>3</th>\n",
       "      <td>3,000-4,000</td>\n",
       "      <td>0.033412</td>\n",
       "    </tr>\n",
       "    <tr>\n",
       "      <th>4</th>\n",
       "      <td>4,000-5,000</td>\n",
       "      <td>0.034090</td>\n",
       "    </tr>\n",
       "    <tr>\n",
       "      <th>5</th>\n",
       "      <td>5,000 +</td>\n",
       "      <td>0.034930</td>\n",
       "    </tr>\n",
       "  </tbody>\n",
       "</table>\n",
       "</div>"
      ],
      "text/plain": [
       "        Budget  Conversion\n",
       "0      0-1,000    0.031314\n",
       "1  1,000-2,000    0.027351\n",
       "2  2,000-3,000    0.027414\n",
       "3  3,000-4,000    0.033412\n",
       "4  4,000-5,000    0.034090\n",
       "5      5,000 +    0.034930"
      ]
     },
     "execution_count": 11,
     "metadata": {},
     "output_type": "execute_result"
    }
   ],
   "source": [
    "data1[['Budget','Conversion']].groupby('Budget',as_index=False).mean()"
   ]
  },
  {
   "cell_type": "code",
   "execution_count": 12,
   "metadata": {},
   "outputs": [
    {
     "data": {
      "text/html": [
       "<div>\n",
       "<style>\n",
       "    .dataframe thead tr:only-child th {\n",
       "        text-align: right;\n",
       "    }\n",
       "\n",
       "    .dataframe thead th {\n",
       "        text-align: left;\n",
       "    }\n",
       "\n",
       "    .dataframe tbody tr th {\n",
       "        vertical-align: top;\n",
       "    }\n",
       "</style>\n",
       "<table border=\"1\" class=\"dataframe\">\n",
       "  <thead>\n",
       "    <tr style=\"text-align: right;\">\n",
       "      <th></th>\n",
       "      <th>CurrentResidence</th>\n",
       "      <th>Conversion</th>\n",
       "    </tr>\n",
       "  </thead>\n",
       "  <tbody>\n",
       "    <tr>\n",
       "      <th>0</th>\n",
       "      <td>Living at Home</td>\n",
       "      <td>0.058171</td>\n",
       "    </tr>\n",
       "    <tr>\n",
       "      <th>1</th>\n",
       "      <td>Living with Family</td>\n",
       "      <td>0.071621</td>\n",
       "    </tr>\n",
       "    <tr>\n",
       "      <th>2</th>\n",
       "      <td>Rental Apartment</td>\n",
       "      <td>0.119725</td>\n",
       "    </tr>\n",
       "    <tr>\n",
       "      <th>3</th>\n",
       "      <td>Senior Community</td>\n",
       "      <td>0.100000</td>\n",
       "    </tr>\n",
       "  </tbody>\n",
       "</table>\n",
       "</div>"
      ],
      "text/plain": [
       "     CurrentResidence  Conversion\n",
       "0      Living at Home    0.058171\n",
       "1  Living with Family    0.071621\n",
       "2    Rental Apartment    0.119725\n",
       "3    Senior Community    0.100000"
      ]
     },
     "execution_count": 12,
     "metadata": {},
     "output_type": "execute_result"
    }
   ],
   "source": [
    "data1[['CurrentResidence','Conversion']].groupby('CurrentResidence',as_index=False).mean()"
   ]
  },
  {
   "cell_type": "code",
   "execution_count": 13,
   "metadata": {},
   "outputs": [
    {
     "data": {
      "text/html": [
       "<div>\n",
       "<style>\n",
       "    .dataframe thead tr:only-child th {\n",
       "        text-align: right;\n",
       "    }\n",
       "\n",
       "    .dataframe thead th {\n",
       "        text-align: left;\n",
       "    }\n",
       "\n",
       "    .dataframe tbody tr th {\n",
       "        vertical-align: top;\n",
       "    }\n",
       "</style>\n",
       "<table border=\"1\" class=\"dataframe\">\n",
       "  <thead>\n",
       "    <tr style=\"text-align: right;\">\n",
       "      <th></th>\n",
       "      <th>Gender</th>\n",
       "      <th>Conversion</th>\n",
       "    </tr>\n",
       "  </thead>\n",
       "  <tbody>\n",
       "    <tr>\n",
       "      <th>0</th>\n",
       "      <td>Female</td>\n",
       "      <td>0.032516</td>\n",
       "    </tr>\n",
       "    <tr>\n",
       "      <th>1</th>\n",
       "      <td>Male</td>\n",
       "      <td>0.032180</td>\n",
       "    </tr>\n",
       "  </tbody>\n",
       "</table>\n",
       "</div>"
      ],
      "text/plain": [
       "   Gender  Conversion\n",
       "0  Female    0.032516\n",
       "1    Male    0.032180"
      ]
     },
     "execution_count": 13,
     "metadata": {},
     "output_type": "execute_result"
    }
   ],
   "source": [
    "data1[['Gender','Conversion']].groupby('Gender',as_index=False).mean()"
   ]
  },
  {
   "cell_type": "code",
   "execution_count": 14,
   "metadata": {},
   "outputs": [
    {
     "data": {
      "text/html": [
       "<div>\n",
       "<style>\n",
       "    .dataframe thead tr:only-child th {\n",
       "        text-align: right;\n",
       "    }\n",
       "\n",
       "    .dataframe thead th {\n",
       "        text-align: left;\n",
       "    }\n",
       "\n",
       "    .dataframe tbody tr th {\n",
       "        vertical-align: top;\n",
       "    }\n",
       "</style>\n",
       "<table border=\"1\" class=\"dataframe\">\n",
       "  <thead>\n",
       "    <tr style=\"text-align: right;\">\n",
       "      <th></th>\n",
       "      <th>ReferralCompany</th>\n",
       "      <th>Conversion</th>\n",
       "    </tr>\n",
       "  </thead>\n",
       "  <tbody>\n",
       "    <tr>\n",
       "      <th>0</th>\n",
       "      <td>A Place for Mom</td>\n",
       "      <td>0.039190</td>\n",
       "    </tr>\n",
       "    <tr>\n",
       "      <th>1</th>\n",
       "      <td>Caring.com</td>\n",
       "      <td>0.018812</td>\n",
       "    </tr>\n",
       "    <tr>\n",
       "      <th>2</th>\n",
       "      <td>Other</td>\n",
       "      <td>0.108235</td>\n",
       "    </tr>\n",
       "    <tr>\n",
       "      <th>3</th>\n",
       "      <td>SeniorLiving.net</td>\n",
       "      <td>0.018695</td>\n",
       "    </tr>\n",
       "    <tr>\n",
       "      <th>4</th>\n",
       "      <td>Seniorhomes.com</td>\n",
       "      <td>0.024262</td>\n",
       "    </tr>\n",
       "  </tbody>\n",
       "</table>\n",
       "</div>"
      ],
      "text/plain": [
       "    ReferralCompany  Conversion\n",
       "0   A Place for Mom    0.039190\n",
       "1        Caring.com    0.018812\n",
       "2             Other    0.108235\n",
       "3  SeniorLiving.net    0.018695\n",
       "4   Seniorhomes.com    0.024262"
      ]
     },
     "execution_count": 14,
     "metadata": {},
     "output_type": "execute_result"
    }
   ],
   "source": [
    "data1[['ReferralCompany','Conversion']].groupby('ReferralCompany',as_index=False).mean()"
   ]
  },
  {
   "cell_type": "code",
   "execution_count": 15,
   "metadata": {},
   "outputs": [
    {
     "data": {
      "text/html": [
       "<div>\n",
       "<style>\n",
       "    .dataframe thead tr:only-child th {\n",
       "        text-align: right;\n",
       "    }\n",
       "\n",
       "    .dataframe thead th {\n",
       "        text-align: left;\n",
       "    }\n",
       "\n",
       "    .dataframe tbody tr th {\n",
       "        vertical-align: top;\n",
       "    }\n",
       "</style>\n",
       "<table border=\"1\" class=\"dataframe\">\n",
       "  <thead>\n",
       "    <tr style=\"text-align: right;\">\n",
       "      <th></th>\n",
       "      <th>CurrentStatus</th>\n",
       "      <th>Conversion</th>\n",
       "    </tr>\n",
       "  </thead>\n",
       "  <tbody>\n",
       "    <tr>\n",
       "      <th>0</th>\n",
       "      <td>Deactivated</td>\n",
       "      <td>0.000434</td>\n",
       "    </tr>\n",
       "    <tr>\n",
       "      <th>1</th>\n",
       "      <td>Future</td>\n",
       "      <td>0.260797</td>\n",
       "    </tr>\n",
       "    <tr>\n",
       "      <th>2</th>\n",
       "      <td>Moved In</td>\n",
       "      <td>0.827686</td>\n",
       "    </tr>\n",
       "    <tr>\n",
       "      <th>3</th>\n",
       "      <td>Prospect</td>\n",
       "      <td>0.000429</td>\n",
       "    </tr>\n",
       "  </tbody>\n",
       "</table>\n",
       "</div>"
      ],
      "text/plain": [
       "  CurrentStatus  Conversion\n",
       "0   Deactivated    0.000434\n",
       "1        Future    0.260797\n",
       "2      Moved In    0.827686\n",
       "3      Prospect    0.000429"
      ]
     },
     "execution_count": 15,
     "metadata": {},
     "output_type": "execute_result"
    }
   ],
   "source": [
    "data1[['CurrentStatus','Conversion']].groupby('CurrentStatus',as_index=False).mean()"
   ]
  },
  {
   "cell_type": "code",
   "execution_count": 16,
   "metadata": {},
   "outputs": [
    {
     "data": {
      "text/html": [
       "<div>\n",
       "<style>\n",
       "    .dataframe thead tr:only-child th {\n",
       "        text-align: right;\n",
       "    }\n",
       "\n",
       "    .dataframe thead th {\n",
       "        text-align: left;\n",
       "    }\n",
       "\n",
       "    .dataframe tbody tr th {\n",
       "        vertical-align: top;\n",
       "    }\n",
       "</style>\n",
       "<table border=\"1\" class=\"dataframe\">\n",
       "  <thead>\n",
       "    <tr style=\"text-align: right;\">\n",
       "      <th></th>\n",
       "      <th>ConvLevel</th>\n",
       "      <th>Conversion</th>\n",
       "    </tr>\n",
       "  </thead>\n",
       "  <tbody>\n",
       "    <tr>\n",
       "      <th>0</th>\n",
       "      <td>1</td>\n",
       "      <td>0.034176</td>\n",
       "    </tr>\n",
       "    <tr>\n",
       "      <th>1</th>\n",
       "      <td>2</td>\n",
       "      <td>0.129982</td>\n",
       "    </tr>\n",
       "    <tr>\n",
       "      <th>2</th>\n",
       "      <td>3</td>\n",
       "      <td>0.019092</td>\n",
       "    </tr>\n",
       "  </tbody>\n",
       "</table>\n",
       "</div>"
      ],
      "text/plain": [
       "   ConvLevel  Conversion\n",
       "0          1    0.034176\n",
       "1          2    0.129982\n",
       "2          3    0.019092"
      ]
     },
     "execution_count": 16,
     "metadata": {},
     "output_type": "execute_result"
    }
   ],
   "source": [
    "data1[['ConvLevel','Conversion']].groupby('ConvLevel',as_index=False).mean()"
   ]
  },
  {
   "cell_type": "code",
   "execution_count": 17,
   "metadata": {},
   "outputs": [
    {
     "data": {
      "text/html": [
       "<div>\n",
       "<style>\n",
       "    .dataframe thead tr:only-child th {\n",
       "        text-align: right;\n",
       "    }\n",
       "\n",
       "    .dataframe thead th {\n",
       "        text-align: left;\n",
       "    }\n",
       "\n",
       "    .dataframe tbody tr th {\n",
       "        vertical-align: top;\n",
       "    }\n",
       "</style>\n",
       "<table border=\"1\" class=\"dataframe\">\n",
       "  <thead>\n",
       "    <tr style=\"text-align: right;\">\n",
       "      <th></th>\n",
       "      <th>Veteran</th>\n",
       "      <th>Conversion</th>\n",
       "    </tr>\n",
       "  </thead>\n",
       "  <tbody>\n",
       "    <tr>\n",
       "      <th>0</th>\n",
       "      <td>False</td>\n",
       "      <td>0.027816</td>\n",
       "    </tr>\n",
       "    <tr>\n",
       "      <th>1</th>\n",
       "      <td>True</td>\n",
       "      <td>0.037061</td>\n",
       "    </tr>\n",
       "  </tbody>\n",
       "</table>\n",
       "</div>"
      ],
      "text/plain": [
       "   Veteran  Conversion\n",
       "0    False    0.027816\n",
       "1     True    0.037061"
      ]
     },
     "execution_count": 17,
     "metadata": {},
     "output_type": "execute_result"
    }
   ],
   "source": [
    "data1[['Veteran','Conversion']].groupby('Veteran',as_index=False).mean()"
   ]
  },
  {
   "cell_type": "code",
   "execution_count": 18,
   "metadata": {
    "collapsed": true
   },
   "outputs": [],
   "source": [
    "# Correcting and filling up the AgeatInquiry column, replacing the extreme age 185 with 85, \n",
    "#replacing age less than 21 and missing age with the mean age\n",
    "data1.loc[data1.AgeatInquiry == 185, 'AgeatInquiry'] = 85\n",
    "age_mean = data1['AgeatInquiry'].mean()\n",
    "data1.loc[data1['AgeatInquiry']<18,'AgeatInquiry'] = age_mean\n",
    "data1.AgeatInquiry = data1.AgeatInquiry.fillna(age_mean)"
   ]
  },
  {
   "cell_type": "code",
   "execution_count": 19,
   "metadata": {
    "collapsed": true
   },
   "outputs": [],
   "source": [
    "#Filling up the CareLevel with the most frequent one\n",
    "CareLevel_freq = data1.CareLevel.dropna().mode()[0]\n",
    "data1.CareLevel = data1.CareLevel.fillna(CareLevel_freq)\n",
    "\n",
    "data1.CareLevel = data1.CareLevel.map({'A':1, 'I':2, 'F':3, 'S':4, 'M':5})"
   ]
  },
  {
   "cell_type": "code",
   "execution_count": 20,
   "metadata": {
    "collapsed": true
   },
   "outputs": [],
   "source": [
    "#Filling NAs with the most frequent one in Gender\n",
    "#Converting Gender into categorical variable\n",
    "data1.Gender = data1.Gender.fillna('Female')\n",
    "data1.Gender = data1.Gender.map({'Female':1,'Male':2}).astype(int)"
   ]
  },
  {
   "cell_type": "code",
   "execution_count": 21,
   "metadata": {
    "collapsed": true
   },
   "outputs": [],
   "source": [
    "data1.Veteran = data1.Veteran.map({True:1, False:2})"
   ]
  },
  {
   "cell_type": "code",
   "execution_count": 22,
   "metadata": {
    "collapsed": true
   },
   "outputs": [],
   "source": [
    "data1.ProvidedEmail = data1.ProvidedEmail.map({True:1, False:2})\n",
    "data1.ProvidedPhone = data1.ProvidedPhone.map({True:1, False:2})\n",
    "data1.RequestedVisit = data1.RequestedVisit.map({True:1, False:2})\n",
    "data1.NoCall = data1.NoCall.map({True:1, False:2})\n",
    "data1.NoEmail = data1.NoEmail.map({True:1, False:2})"
   ]
  },
  {
   "cell_type": "code",
   "execution_count": 23,
   "metadata": {
    "collapsed": true
   },
   "outputs": [],
   "source": [
    "budget_map = {'0-1,000':1, '1,000-2,000':2, '2,000-3,000':3, '3,000-4,000':4, '4,000-5,000':5, '5,000 +':6}\n",
    "data1.Budget = data1.Budget.fillna(data1.Budget.mode()[0])\n",
    "data1.Budget = data1.Budget.map(budget_map)"
   ]
  },
  {
   "cell_type": "code",
   "execution_count": 24,
   "metadata": {
    "collapsed": true
   },
   "outputs": [],
   "source": [
    "#creating a new flag feature that is 1 when NotQual is null\n",
    "data1['IsQual'] = 1\n",
    "data1.loc[data1.NotQual.isnull(),'IsQual'] = 0"
   ]
  },
  {
   "cell_type": "code",
   "execution_count": 25,
   "metadata": {
    "collapsed": true
   },
   "outputs": [],
   "source": [
    "refer_map = {'A Place for Mom':1, 'Caring.com':2, 'SeniorLiving.net':3, 'Seniorhomes.com':4,'Other':5}\n",
    "#data1.ReferralCompany = data1.ReferralCompany.fillna(data1.ReferralCompany.mode()[0])\n",
    "data1.ReferralCompany = data1.ReferralCompany.map(refer_map)"
   ]
  },
  {
   "cell_type": "code",
   "execution_count": 26,
   "metadata": {
    "collapsed": true
   },
   "outputs": [],
   "source": [
    "deact_map = {'Request Removal':1, 'Not Qualified':2, 'Location':3, 'Moved to Other Community':4, 'Duplicate Lead':5,\n",
    "            'Deceased':6, 'Health Status Changed':7, 'Moved In with Family':8}\n",
    "data1.DeactReason = data1.DeactReason.fillna(data1.DeactReason.mode()[0])\n",
    "data1.DeactReason = data1.DeactReason.map(deact_map)"
   ]
  },
  {
   "cell_type": "code",
   "execution_count": 27,
   "metadata": {
    "collapsed": true
   },
   "outputs": [],
   "source": [
    "status_map = {'Deactivated':1, 'Prospect':2, 'Moved In':3, 'Future':4}\n",
    "data1.CurrentStatus = data1.CurrentStatus.map(status_map)"
   ]
  },
  {
   "cell_type": "code",
   "execution_count": 28,
   "metadata": {
    "collapsed": true
   },
   "outputs": [],
   "source": [
    "var = ['AgeatInquiry', 'CareLevel', 'Gender', 'Veteran', 'ProvidedEmail', 'ProvidedPhone', 'Budget', 'RequestedVisit',\n",
    "      'NoCall', 'NoEmail', 'ReferralCompany', 'DeactReason','CurrentStatus']\n",
    "x_all = data1[var]\n",
    "y_all = data1['Conversion']"
   ]
  },
  {
   "cell_type": "code",
   "execution_count": 29,
   "metadata": {
    "collapsed": true
   },
   "outputs": [],
   "source": [
    "num_test = 0.2\n",
    "x_train, x_test, y_train, y_test = train_test_split(x_all, y_all, test_size=num_test, random_state = 3843)"
   ]
  },
  {
   "cell_type": "code",
   "execution_count": 30,
   "metadata": {},
   "outputs": [
    {
     "name": "stdout",
     "output_type": "stream",
     "text": [
      "0.9904960008964715\n"
     ]
    }
   ],
   "source": [
    "linear = LogisticRegression()\n",
    "linear.fit(x_train,y_train)\n",
    "pred = linear.predict(x_test)\n",
    "print(linear.score(x_train,y_train))"
   ]
  },
  {
   "cell_type": "code",
   "execution_count": null,
   "metadata": {
    "collapsed": true
   },
   "outputs": [],
   "source": []
  }
 ],
 "metadata": {
  "kernelspec": {
   "display_name": "Python 3",
   "language": "python",
   "name": "python3"
  },
  "language_info": {
   "codemirror_mode": {
    "name": "ipython",
    "version": 3
   },
   "file_extension": ".py",
   "mimetype": "text/x-python",
   "name": "python",
   "nbconvert_exporter": "python",
   "pygments_lexer": "ipython3",
   "version": "3.6.3"
  }
 },
 "nbformat": 4,
 "nbformat_minor": 2
}
